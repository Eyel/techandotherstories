{
 "cells": [
  {
   "attachments": {
    "Exploring": {
     "image/jpeg": "/girl-5160131_1280.jpg"
    }
   },
   "cell_type": "markdown",
   "execution_count": null,
   "metadata": {},
   "source": [
    "# EDA (Exploratory Data Analysis)\n",
    "\n",
    "![girl-5160131_1280.jpg](attachment:girl-5160131_1280.jpg)\n",
    "\n",
    "Where to begin when you have a new dataset on your hands or been submitted a problem and a collection of data?\n",
    "New data scientists and data analysts might feel overwhelmed when presented with a new dataset. That's where EDA comes in handy.\n",
    "\n",
    "*Problem => Data => Analysis => Model => Conclusions*"
   ]
  },
  {
   "cell_type": "markdown",
   "execution_count": null,
   "metadata": {},
   "source": [
    "\n",
    "\n",
    "\n",
    "## 1 - What is EDA?\n",
    "\n",
    "EDA was first promoted and defined by John Tukey as: \n",
    "\n",
    "> \"Procedures for analyzing data, techniques for interpreting the results of such procedures, ways of planning the gathering of data to make its analysis easier, more precise or more accurate, and all the machinery and results of (mathematical) statistics which apply to analyzing data.\"\n",
    "\n",
    "\n",
    "There isn't one single definition for EDA but it can described as follows: \n",
    "\n",
    "> EDA is an approach for Data scientists/Data Analysts that employs differents techniques, like tables, visualization and statistic method, in order to analyze a dataset, uncover its main characterisics and underlining structure and gain the maximum of insights.\n",
    "\n",
    "As stated it is an approach not a set of techniques (to unroll for any situation). The way the data is handled often vary with each dataset and also. Each Data Scientist/Data analyst has its own approch to problems and data, that intuition is often build through years of experience and domain knowledge. \n",
    "\n",
    "\n"
   ]
  },
  {
   "cell_type": "markdown",
   "execution_count": null,
   "metadata": {},
   "source": [
    "## 2 - How the goal and context of analysis affect EDA?\n",
    "EDA doesn't follow usual assumptions about the kind of model the data follows but rather helps validate (or not) hypothesis about the data. It let's the data suggest what kind of model it follows.\n",
    "The goal of the analyss and the context can affect the way we do EDA.\n",
    "**There are two main types of goals:**\n",
    "- Profiling :\n",
    "    * Checking the quality of the data to see if it is suitable for analysis\n",
    "    * Are the mathematical assumptions verified?\n",
    "    * Do I need more data?\n",
    "- Discovery :\n",
    "    * Gain more insights\n",
    "    * learn what the model could tell\n",
    "    * What are the relationships between the variables?\n",
    "    * Evaluate the features importance (interpretability)\n",
    "\n",
    "**Regarding the context of an EDA**\n",
    "- How much time can allow for EDA?\n",
    "- Do I need/have feedback from stakeholders\n",
    "- How much domain knowledge do I have?\n",
    "\n",
    "### Projects type\n",
    "The type of project can also impact the way we do EDA :\n",
    "- Answering business or research question  \n",
    "- Answering open ended questions: How can we reduce our churn rate? \n",
    "- Open exploration: extensively explore the data in order to summarize its main characteristics and look for new insights, without having to answer a specific question\n",
    "- Model preparation: make sure the data is ready for modeling \n",
    "- Data preparation: make sure the data is suitable for analysis, involves (handling missing data and erroneous values, convert data formats,...)\n",
    "\n",
    "\n",
    "### The importance of domain knowledge\n",
    "Having domain knowledge is a huge adavantage when analyzing data. It helps identify irregularities in the dataset. For example ????.\n",
    "In order to effectively combine numerous variables (Feature enginering) or extract new informations from asingle variable (Feature extraction)."
   ]
  },
  {
   "cell_type": "markdown",
   "execution_count": null,
   "metadata": {},
   "source": [
    "## 3 - Handling large datasets\n",
    "In case of large datasets, analyzing the full ata can be time and resource consuming but there are several techniques\n",
    "\n",
    "### Sampling\n",
    "It is extracting a subset of the dataset that is representaive of the data. You will need to specify the sample size. Here are a few method of sampling.\n",
    "- random sampling: every single data point has the same chance to be selected, wich makes the final sample unbias\n",
    "- stratified random sampling: partition the data into differents subgroups then apply random sampling to each\n",
    "\n",
    "**Note: in order for the sample to representative, it should have teh same distribution as the original data.**\n",
    "\n",
    "### Filtering\n",
    "It consist of eliminating a subset of the data in order to remove unecessary information ie reduce the noise. It can be a signal processing technique or just removal of outliers.\n",
    "\n",
    "### Aggregation\n",
    "It is to summarize data based on one or several variables.\n",
    "*img\n",
    "\n",
    "\n"
   ]
  },
  {
   "cell_type": "markdown",
   "execution_count": null,
   "metadata": {},
   "source": [
    "## 4 - High dimensionality: how many is too much?\n",
    "For analysis, around dozen of variables is manageable. When there are a few dozen to thousands of variables, it becomes time consuming and vizualisaton become less effective. In these cases you can:\n",
    "- choose the variables to analyze based on domain knowledge. Usually around twenty relevant variables.\n",
    "- Drop variables: duplicate or similar ones, correlated vraiables\n",
    "- Use statistical modeling techniques to select the most relevant features: random forest, decision trees,..\n",
    "- Dimensionality reduction : PCA, t-NSE,... These techniques are also used for a more effective vizualisation of the data"
   ]
  },
  {
   "cell_type": "markdown",
   "execution_count": null,
   "metadata": {},
   "source": [
    "## 5 - When to end an EDA\n",
    "\n",
    "There are numerous methods for EDA and some data can be rich in information just waiting to be discovered. One might ask, when do I stop the EDA and move onto the next step? The answers depends on \n",
    "- Time constrains: do you have a dealine for the final report?\n",
    "- Stakeholders: do you need feedback from the stakeholders and did you get one?\n",
    "- Assumptions: are all the assumptions made about the data verified?\n",
    "- Feeling: do you have a good sense of understanding the data?"
   ]
  }
 ],
 "metadata": {
  "kernelspec": {
   "display_name": "Python 3",
   "language": "python",
   "name": "python3"
  },
  "language_info": {
   "codemirror_mode": {
    "name": "ipython",
    "version": 3
   },
   "file_extension": ".py",
   "mimetype": "text/x-python",
   "name": "python",
   "nbconvert_exporter": "python",
   "pygments_lexer": "ipython3",
   "version": "3.6.6"
  }
 },
 "nbformat": 4,
 "nbformat_minor": 4
}
